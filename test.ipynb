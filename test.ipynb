{
 "cells": [
  {
   "cell_type": "code",
   "execution_count": 1,
   "metadata": {},
   "outputs": [],
   "source": [
    "from binance.client import Client\n",
    "from strategies.vwap_reversion import VWAPReversion  # or any other strategy\n",
    "from agent.binance import TradingAgent\n",
    "import time\n",
    "\n",
    "# Initialize Binance client\n",
    "api_key = '0FhZdWeLefwxmQYVzi8pT1hQaR6lvC0NRn35oWiG5bJV1LutsMJgbHnK5ZJrZbQK'\n",
    "api_secret = 'SheFNtiCQKhphhWCACRKQWdaTbXKyv2ZxzhgmLyvfXQQNqo8iOBmLxoBVw2nlIGu'\n",
    "client = Client(api_key, api_secret, {\"timeout\": 30})"
   ]
  },
  {
   "cell_type": "code",
   "execution_count": null,
   "metadata": {},
   "outputs": [
    {
     "data": {
      "text/plain": [
       "{'serverTime': 1744189287185}"
      ]
     },
     "execution_count": 3,
     "metadata": {},
     "output_type": "execute_result"
    }
   ],
   "source": [
    "client"
   ]
  },
  {
   "cell_type": "code",
   "execution_count": 2,
   "metadata": {},
   "outputs": [
    {
     "name": "stderr",
     "output_type": "stream",
     "text": [
      "INFO:agent.binance:Initialized TradingAgent for VETBTC with VWAPReversion\n"
     ]
    }
   ],
   "source": [
    "# Initialize strategy\n",
    "strategy = VWAPReversion(1)\n",
    "\n",
    "# Create trading agent\n",
    "agent = TradingAgent(\n",
    "    client=client,\n",
    "    strategy=strategy,\n",
    "    symbol='VETBTC',\n",
    "    timeframe='1m',\n",
    "    test_mode=True  # Set to True for paper trading\n",
    ")"
   ]
  },
  {
   "cell_type": "code",
   "execution_count": null,
   "metadata": {},
   "outputs": [],
   "source": [
    "# Run the agent in a loop\n",
    "while True:\n",
    "    agent.run(risk_pct=0.01)  # 1% risk per trade\n",
    "    time.sleep(60)  # Wait for next candle"
   ]
  },
  {
   "cell_type": "code",
   "execution_count": null,
   "metadata": {},
   "outputs": [],
   "source": []
  }
 ],
 "metadata": {
  "kernelspec": {
   "display_name": ".venv",
   "language": "python",
   "name": "python3"
  },
  "language_info": {
   "codemirror_mode": {
    "name": "ipython",
    "version": 3
   },
   "file_extension": ".py",
   "mimetype": "text/x-python",
   "name": "python",
   "nbconvert_exporter": "python",
   "pygments_lexer": "ipython3",
   "version": "3.12.3"
  }
 },
 "nbformat": 4,
 "nbformat_minor": 2
}
